{
 "cells": [
  {
   "cell_type": "markdown",
   "id": "wired-merchant",
   "metadata": {},
   "source": [
    "# Circle Of Fiths\n",
    "\n",
    "Circle of fifths with modes and chord-finder written in $\\LaTeX$.\n",
    "\n",
    "You can use the file <circle_of_fifths.tex> to create three PDF's, print, cut out (, laminate) and join them in the center"
   ]
  }
 ],
 "metadata": {
  "kernelspec": {
   "display_name": "Python 3",
   "language": "python",
   "name": "python3"
  },
  "language_info": {
   "codemirror_mode": {
    "name": "ipython",
    "version": 3
   },
   "file_extension": ".py",
   "mimetype": "text/x-python",
   "name": "python",
   "nbconvert_exporter": "python",
   "pygments_lexer": "ipython3",
   "version": "3.6.12"
  }
 },
 "nbformat": 4,
 "nbformat_minor": 5
}
