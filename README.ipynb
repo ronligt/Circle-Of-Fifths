{
 "cells": [
  {
   "cell_type": "markdown",
   "id": "wired-merchant",
   "metadata": {},
   "source": [
    "# Circle Of Fiths\n",
    "\n",
    "Circle of fifths with modes and chord-finder written in $\\LaTeX$.\n",
    "\n",
    "You can use the file [circle_of_fifths.tex](circle_of_fifths.tex) to create three PDF's, print, cut out (, laminate) and join them in the center:\n",
    "\n",
    "![example](example.JPG)\n",
    "\n",
    "If you cannot create the PDF's please download the [base.pdf](base.pdf), [modes.pdf](modes.pdf) and [chords.pdf](chords.pdf).\n",
    "\n",
    "*Many thanks to the authors of the code found in <https://tex.stackexchange.com/questions/442783/circle-of-fifths-diagram-with-printed-music-in-latex>*"
   ]
  }
 ],
 "metadata": {
  "interpreter": {
   "hash": "bf06934f54d8d13cd4fe5a42b93de4c605a1b85d59ee26b72a83b3567fd5cca9"
  },
  "kernelspec": {
   "display_name": "Python 3.6.12 ('jupyter')",
   "language": "python",
   "name": "python3"
  },
  "language_info": {
   "codemirror_mode": {
    "name": "ipython",
    "version": 3
   },
   "file_extension": ".py",
   "mimetype": "text/x-python",
   "name": "python",
   "nbconvert_exporter": "python",
   "pygments_lexer": "ipython3",
   "version": "3.6.12"
  }
 },
 "nbformat": 4,
 "nbformat_minor": 5
}
