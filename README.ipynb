# Circle Of Fifths

Circle of fifths together with modes and chord-finder created in $`\LaTeX`$
